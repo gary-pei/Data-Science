{
 "cells": [
  {
   "cell_type": "markdown",
   "metadata": {},
   "source": [
    "# Single Source Shortest Path\n",
    "__`Guangyu (Gary) Pei| guangyu.pei@berkeley.edu`__\n",
    "\n",
    "__Objectives:__\n",
    "\n",
    "- Implement Single Source Shortest Path (SSSP) in Spark using RDDs.\n",
    "- Describe implementation steps in Spark using DataFrames.\n",
    "- Discuss whether there is a `GraphFrames` implementation to compare/contrast.\n",
    "- Discuss how to implement Longest Path and the challenges.\n",
    "\n",
    "## Table of Contents\n",
    "\n",
    "[Google Clound Platform and Local Jupyter Notebook Setup](#Notebook-Set-Up)\n",
    "\n",
    "[Introduction](#Introduction)\n",
    "\n",
    "[SSSP Implementation](#SSSP-Implementation)\n",
    "\n",
    "[DataFrames implementation sketch](#DataFrames-implementation-sketch)\n",
    "\n",
    "[GraphFrames Shortest Path](#GraphFrames-shortest-path)\n",
    "\n",
    "[Longest Path](#Longest-Path)\n",
    "\n",
    "[Summary and conclusion](#Summary-and-conclusion)"
   ]
  },
  {
   "cell_type": "markdown",
   "metadata": {},
   "source": [
    "# Notebook Set-Up"
   ]
  },
  {
   "cell_type": "code",
   "execution_count": 1,
   "metadata": {},
   "outputs": [
    {
     "data": {
      "text/html": [
       "\n",
       "            <div>\n",
       "                <p><b>SparkSession - hive</b></p>\n",
       "                \n",
       "        <div>\n",
       "            <p><b>SparkContext</b></p>\n",
       "\n",
       "            <p><a href=\"http://w261-ec-m.c.w261-233219.internal:4040\">Spark UI</a></p>\n",
       "\n",
       "            <dl>\n",
       "              <dt>Version</dt>\n",
       "                <dd><code>v2.3.1</code></dd>\n",
       "              <dt>Master</dt>\n",
       "                <dd><code>yarn</code></dd>\n",
       "              <dt>AppName</dt>\n",
       "                <dd><code>pyspark-shell</code></dd>\n",
       "            </dl>\n",
       "        </div>\n",
       "        \n",
       "            </div>\n",
       "        "
      ],
      "text/plain": [
       "<pyspark.sql.session.SparkSession at 0x7f80a48ccb00>"
      ]
     },
     "execution_count": 1,
     "metadata": {},
     "output_type": "execute_result"
    }
   ],
   "source": [
    "#GCP Cluster Only\n",
    "spark"
   ]
  },
  {
   "cell_type": "code",
   "execution_count": 2,
   "metadata": {},
   "outputs": [],
   "source": [
    "# imports\n",
    "import re\n",
    "import ast\n",
    "import time\n",
    "import numpy as np\n",
    "import pandas as pd\n",
    "import seaborn as sns\n",
    "import networkx as nx\n",
    "import matplotlib.pyplot as plt"
   ]
  },
  {
   "cell_type": "code",
   "execution_count": 3,
   "metadata": {},
   "outputs": [],
   "source": [
    "%reload_ext autoreload\n",
    "%autoreload 2"
   ]
  },
  {
   "cell_type": "code",
   "execution_count": 4,
   "metadata": {},
   "outputs": [],
   "source": [
    "# store path to notebook\n",
    "PWD = !pwd\n",
    "PWD = PWD[0]"
   ]
  },
  {
   "cell_type": "code",
   "execution_count": 4,
   "metadata": {},
   "outputs": [],
   "source": [
    "# start Spark Session\n",
    "from pyspark.sql import SparkSession\n",
    "app_name = \"EC\"\n",
    "master = \"local[*]\"\n",
    "spark = SparkSession\\\n",
    "        .builder\\\n",
    "        .appName(app_name)\\\n",
    "        .master(master)\\\n",
    "        .getOrCreate()\n",
    "sc = spark.sparkContext"
   ]
  },
  {
   "cell_type": "code",
   "execution_count": 5,
   "metadata": {},
   "outputs": [
    {
     "data": {
      "text/plain": [
       "[('spark.eventLog.enabled', 'true'),\n",
       " ('spark.dynamicAllocation.minExecutors', '1'),\n",
       " ('spark.yarn.historyServer.address', 'w261-ec-m:18080'),\n",
       " ('spark.app.id', 'application_1553571873267_0001'),\n",
       " ('spark.repl.local.jars',\n",
       "  'file:///root/.ivy2/jars/graphframes_graphframes-0.7.0-spark2.3-s_2.11.jar,file:///root/.ivy2/jars/org.slf4j_slf4j-api-1.7.16.jar'),\n",
       " ('spark.driver.appUIAddress', 'http://w261-ec-m.c.w261-233219.internal:4040'),\n",
       " ('spark.yarn.am.memory', '640m'),\n",
       " ('spark.executor.cores', '4'),\n",
       " ('spark.executorEnv.PYTHONPATH',\n",
       "  '/usr/lib/spark/python/:/usr/lib/spark/python/lib/py4j-0.10.7-src.zip<CPS>{{PWD}}/pyspark.zip<CPS>{{PWD}}/py4j-0.10.7-src.zip<CPS>{{PWD}}/graphframes_graphframes-0.7.0-spark2.3-s_2.11.jar<CPS>{{PWD}}/org.slf4j_slf4j-api-1.7.16.jar'),\n",
       " ('spark.yarn.dist.jars',\n",
       "  'file:///root/.ivy2/jars/graphframes_graphframes-0.7.0-spark2.3-s_2.11.jar,file:///root/.ivy2/jars/org.slf4j_slf4j-api-1.7.16.jar'),\n",
       " ('spark.org.apache.hadoop.yarn.server.webproxy.amfilter.AmIpFilter.param.PROXY_HOSTS',\n",
       "  'w261-ec-m'),\n",
       " ('spark.executor.instances', '2'),\n",
       " ('spark.driver.host', 'w261-ec-m.c.w261-233219.internal'),\n",
       " ('spark.serializer.objectStreamReset', '100'),\n",
       " ('spark.driver.maxResultSize', '3840m'),\n",
       " ('spark.submit.deployMode', 'client'),\n",
       " ('spark.ui.filters',\n",
       "  'org.apache.hadoop.yarn.server.webproxy.amfilter.AmIpFilter'),\n",
       " ('spark.yarn.secondary.jars',\n",
       "  'graphframes_graphframes-0.7.0-spark2.3-s_2.11.jar,org.slf4j_slf4j-api-1.7.16.jar'),\n",
       " ('spark.shuffle.service.enabled', 'true'),\n",
       " ('spark.jars.packages', 'graphframes:graphframes:0.7.0-spark2.3-s_2.11'),\n",
       " ('spark.scheduler.mode', 'FAIR'),\n",
       " ('spark.hadoop.hive.execution.engine', 'mr'),\n",
       " ('spark.yarn.jars', 'local:/usr/lib/spark/jars/*'),\n",
       " ('spark.driver.port', '43569'),\n",
       " ('spark.scheduler.minRegisteredResourcesRatio', '0.0'),\n",
       " ('spark.executor.id', 'driver'),\n",
       " ('spark.executor.memory', '11171m'),\n",
       " ('spark.history.fs.logDirectory', 'hdfs://w261-ec-m/user/spark/eventlog'),\n",
       " ('spark.app.name', 'pyspark-shell'),\n",
       " ('spark.dynamicAllocation.maxExecutors', '10000'),\n",
       " ('spark.org.apache.hadoop.yarn.server.webproxy.amfilter.AmIpFilter.param.PROXY_URI_BASES',\n",
       "  'http://w261-ec-m:8088/proxy/application_1553571873267_0001'),\n",
       " ('spark.executor.extraJavaOptions',\n",
       "  '-Dflogger.backend_factory=com.google.cloud.hadoop.repackaged.gcs.com.google.common.flogger.backend.log4j.Log4jBackendFactory#getInstance'),\n",
       " ('spark.master', 'yarn'),\n",
       " ('spark.submit.pyFiles',\n",
       "  '/root/.ivy2/jars/graphframes_graphframes-0.7.0-spark2.3-s_2.11.jar,/root/.ivy2/jars/org.slf4j_slf4j-api-1.7.16.jar'),\n",
       " ('spark.sql.catalogImplementation', 'hive'),\n",
       " ('spark.executorEnv.PYTHONHASHSEED', '0'),\n",
       " ('spark.rpc.message.maxSize', '512'),\n",
       " ('spark.rdd.compress', 'True'),\n",
       " ('spark.ui.proxyBase', '/proxy/application_1553571873267_0001'),\n",
       " ('spark.executorEnv.OPENBLAS_NUM_THREADS', '1'),\n",
       " ('spark.yarn.isPython', 'true'),\n",
       " ('spark.dynamicAllocation.enabled', 'true'),\n",
       " ('spark.sql.parquet.cacheMetadata', 'false'),\n",
       " ('spark.driver.memory', '7680m'),\n",
       " ('spark.yarn.dist.pyFiles',\n",
       "  'file:///root/.ivy2/jars/graphframes_graphframes-0.7.0-spark2.3-s_2.11.jar,file:///root/.ivy2/jars/org.slf4j_slf4j-api-1.7.16.jar'),\n",
       " ('spark.ui.showConsoleProgress', 'true'),\n",
       " ('spark.eventLog.dir', 'hdfs://w261-ec-m/user/spark/eventlog'),\n",
       " ('spark.sql.cbo.enabled', 'true'),\n",
       " ('spark.driver.extraJavaOptions',\n",
       "  '-Dflogger.backend_factory=com.google.cloud.hadoop.repackaged.gcs.com.google.common.flogger.backend.log4j.Log4jBackendFactory#getInstance')]"
      ]
     },
     "execution_count": 5,
     "metadata": {},
     "output_type": "execute_result"
    }
   ],
   "source": [
    "# GCP Cluster Only\n",
    "sc = spark.sparkContext\n",
    "from pyspark.sql import SQLContext\n",
    "sqlContext = SQLContext(sc)\n",
    "sc.getConf().getAll()"
   ]
  },
  {
   "cell_type": "markdown",
   "metadata": {},
   "source": [
    "# Introduction\n",
    "\n",
    "In this example, I will implement Single Source Shortest Path (SSSP) algorithm in Spark. The data set is the Wikipedia dataset. It is a 2GB\n",
    "subset of a 500GB dataset released by AWS in 2009. The data includes the source and metadata for all of the Wikimedia wikis.\n",
    "The description of the data can be found at https://aws.amazon.com/blogs/aws/new-public-data-set-wikipedia-xml-data.\n",
    "\n",
    "To make it challenge and use this data as weighted direct graph, the interpretation of the value in dictionary is different. Instead of treating the value as the number of times the linked page is visited, the value is considered as the weight to the linked page. As shown below, the data were downloaded and loaded in RDD."
   ]
  },
  {
   "cell_type": "code",
   "execution_count": 5,
   "metadata": {},
   "outputs": [],
   "source": [
    "# create a data directory\n",
    "!mkdir data"
   ]
  },
  {
   "cell_type": "code",
   "execution_count": 6,
   "metadata": {},
   "outputs": [],
   "source": [
    "# download the test data set\n",
    "!wget -q -O data/test_graph.txt https://www.dropbox.com/sh/2c0k5adwz36lkcw/AACf_33TeM7rKfEhjEoNmMCaa/PageRank-test_indexed.txt?dl=0"
   ]
  },
  {
   "cell_type": "code",
   "execution_count": 5,
   "metadata": {},
   "outputs": [
    {
     "name": "stdout",
     "output_type": "stream",
     "text": [
      "2\t{'3': 1}\n",
      "3\t{'2': 1}\n",
      "4\t{'1': 1, '2': 1}\n",
      "5\t{'4': 1, '2': 1, '6': 1}\n",
      "6\t{'2': 1, '5': 1}\n",
      "7\t{'2': 1, '5': 1}\n",
      "8\t{'2': 1, '5': 1}\n",
      "9\t{'2': 1, '5': 1}\n",
      "10\t{'5': 1}\n",
      "11\t{'5': 1}\n"
     ]
    }
   ],
   "source": [
    "# take a look\n",
    "!cat data/test_graph.txt"
   ]
  },
  {
   "cell_type": "code",
   "execution_count": 9,
   "metadata": {},
   "outputs": [
    {
     "name": "stdout",
     "output_type": "stream",
     "text": [
      "--2019-03-17 18:20:46--  https://www.dropbox.com/sh/2c0k5adwz36lkcw/AAAD7I_6kQlJtDpXZPhCfVH-a/wikipedia/all-pages-indexed-out.txt?dl=0\n",
      "Resolving www.dropbox.com... 162.125.1.1, 2620:100:6016:1::a27d:101\n",
      "Connecting to www.dropbox.com|162.125.1.1|:443... connected.\n",
      "HTTP request sent, awaiting response... 301 Moved Permanently\n",
      "Location: /sh/raw/2c0k5adwz36lkcw/AAAD7I_6kQlJtDpXZPhCfVH-a/wikipedia/all-pages-indexed-out.txt [following]\n",
      "--2019-03-17 18:20:46--  https://www.dropbox.com/sh/raw/2c0k5adwz36lkcw/AAAD7I_6kQlJtDpXZPhCfVH-a/wikipedia/all-pages-indexed-out.txt\n",
      "Reusing existing connection to www.dropbox.com:443.\n",
      "HTTP request sent, awaiting response... 302 Found\n",
      "Location: https://ucd4786f0b10c00dc594f41b81d8.dl.dropboxusercontent.com/cd/0/inline/AdQHHlKwkpbWil3a7HCxNcWZatWB3Gffd2-rBS_yLZwnVtzuGqWq9undMcZcqb4hDdK291uTqNPi4yxuZ9rMV-a9YonyrlfzLVWYwN8mjMqUiQpS4CHfJn4UgyMMol5Z5-4/file# [following]\n",
      "--2019-03-17 18:20:47--  https://ucd4786f0b10c00dc594f41b81d8.dl.dropboxusercontent.com/cd/0/inline/AdQHHlKwkpbWil3a7HCxNcWZatWB3Gffd2-rBS_yLZwnVtzuGqWq9undMcZcqb4hDdK291uTqNPi4yxuZ9rMV-a9YonyrlfzLVWYwN8mjMqUiQpS4CHfJn4UgyMMol5Z5-4/file\n",
      "Resolving ucd4786f0b10c00dc594f41b81d8.dl.dropboxusercontent.com... 162.125.1.6, 2620:100:6016:6::a27d:106\n",
      "Connecting to ucd4786f0b10c00dc594f41b81d8.dl.dropboxusercontent.com|162.125.1.6|:443... connected.\n",
      "HTTP request sent, awaiting response... 200 OK\n",
      "Length: 2090459616 (1.9G) [text/plain]\n",
      "Saving to: `data/wiki_graph.txt'\n",
      "\n",
      "100%[====================================>] 2,090,459,616 2.00M/s   in 17m 12s \n",
      "\n",
      "2019-03-17 18:38:00 (1.93 MB/s) - `data/wiki_graph.txt' saved [2090459616/2090459616]\n",
      "\n"
     ]
    }
   ],
   "source": [
    "# download the main data set\n",
    "!wget -O data/wiki_graph.txt https://www.dropbox.com/sh/2c0k5adwz36lkcw/AAAD7I_6kQlJtDpXZPhCfVH-a/wikipedia/all-pages-indexed-out.txt?dl=0"
   ]
  },
  {
   "cell_type": "code",
   "execution_count": 6,
   "metadata": {},
   "outputs": [
    {
     "name": "stdout",
     "output_type": "stream",
     "text": [
      "73\t{'14417532': 1}\n",
      "299\t{'4214575': 1}\n",
      "2552\t{'15043376': 1, '13430968': 1, '13451035': 1, '7263397': 1, '13001625': 1, '13443575': 1, '13451269': 1, '13432316': 1, '11623371': 1, '15028971': 1, '13425865': 1, '15042703': 1, '5051368': 1, '9854998': 2, '13442976': 1, '13315025': 1, '2992307': 1, '1054486': 1, '1322325': 1, '13450983': 1}\n",
      "2570\t{'983991': 1}\n",
      "2616\t{'9045350': 1}\n",
      "2711\t{'752887': 1}\n",
      "2818\t{'3534183': 1}\n",
      "2847\t{'3797918': 1}\n",
      "2892\t{'2893': 1}\n",
      "2921\t{'5158607': 1, '6007184': 1, '14773825': 1, '11777840': 2, '9285165': 1, '6420484': 1, '14670682': 1, '7316613': 1, '7125893': 1, '14965920': 1, '14229952': 1, '9447742': 2, '1425342': 1, '11390944': 2, '5141': 1, '14928135': 2, '13636570': 3, '14687433': 1, '15105458': 1, '11656072': 1, '6420027': 1, '10898196': 1, '6416278': 1, '11497740': 2}\n"
     ]
    }
   ],
   "source": [
    "# take a look\n",
    "!head data/wiki_graph.txt"
   ]
  },
  {
   "cell_type": "code",
   "execution_count": 147,
   "metadata": {},
   "outputs": [],
   "source": [
    "# load the data into Spark RDDs for convenience of use later\n",
    "testRDD = sc.textFile('data/test_graph.txt')\n",
    "toyRDD = sc.textFile('data/toy_graph.txt')\n",
    "wikiRDD = sc.textFile('data/wiki_graph.txt')"
   ]
  },
  {
   "cell_type": "code",
   "execution_count": 6,
   "metadata": {},
   "outputs": [],
   "source": [
    "# For GCP cluster only\n",
    "testRDD = sc.textFile('gs://w261-data-gp/data/test_graph.txt')\n",
    "wikiRDD = sc.textFile('gs://w261-data-gp/data/wiki_graph.txt')"
   ]
  },
  {
   "cell_type": "markdown",
   "metadata": {},
   "source": [
    "# SSSP Implementation\n",
    "\n",
    "![alt text](Dijkstra_Animation.gif)\n",
    "\n",
    "The Dijkstra's algorithm is the well known algorithm of finding the shortest path for weighted graph. The above animation illustrats the algorithm. It is a BFS tranversal algorithm using priority queue to keep track of the frontier nodes from iteration to iteration. In order to implement this in a distributed parallel computing environment with map and reduce, we have to avoid the global priority queue. Thus, we need to define node states and keep track of them distributely. To this end, each node can be in one of the following state to identify its status of traversing the graph:\n",
    "  - Visited\n",
    "  - Queue\n",
    "  - Unvisited\n",
    "\n",
    "First, I initialize the graph with records in the form of `node_id (edges, distance_from_source, path_from_source, state)`. The source node will be initialized with distance 0 and path is the source node itself. The state of source node is `Q`, namely, the source node is initialized as the frontier node. All the other nodes are initialized with distance infinity to the source node and state of `U`, unvisited state. The initialization function is shown below."
   ]
  },
  {
   "cell_type": "markdown",
   "metadata": {},
   "source": [
    "### SSSP: Initialize the Graph"
   ]
  },
  {
   "cell_type": "code",
   "execution_count": 7,
   "metadata": {},
   "outputs": [],
   "source": [
    "def initGraph(dataRDD, sourceID):\n",
    "    \"\"\"\n",
    "    Spark job to read in the raw data and initialize an \n",
    "    adjacency list representation with a record for each\n",
    "    node, initial distance to sourceID, and graph traversal state.\n",
    "    \n",
    "    Returns: \n",
    "        graphRDD -  a pair RDD of (node_id , (out_nodes, distance, path, state))\n",
    "    \"\"\"\n",
    "    # helper functions\n",
    "    def parse(line):\n",
    "        node, edges = line.split('\\t')\n",
    "        edges = ast.literal_eval(edges)\n",
    "        if (node != sourceID):\n",
    "            yield (node, (edges, np.Inf, [], 'U'))\n",
    "        else:\n",
    "            yield (node, (edges, 0, [node], 'Q'))\n",
    "    # main Spark code\n",
    "    graphRDD = dataRDD.flatMap(parse).cache()\n",
    "    return graphRDD"
   ]
  },
  {
   "cell_type": "code",
   "execution_count": 42,
   "metadata": {},
   "outputs": [
    {
     "name": "stdout",
     "output_type": "stream",
     "text": [
      "... test graph initialized in 0.10717988014221191 seconds.\n"
     ]
    },
    {
     "data": {
      "text/plain": [
       "[('2', ({'3': 1}, inf, [], 'U')),\n",
       " ('3', ({'2': 1}, inf, [], 'U')),\n",
       " ('4', ({'1': 1, '2': 1}, 0, ['4'], 'Q')),\n",
       " ('5', ({'4': 1, '2': 1, '6': 1}, inf, [], 'U')),\n",
       " ('6', ({'2': 1, '5': 1}, inf, [], 'U')),\n",
       " ('7', ({'2': 1, '5': 1}, inf, [], 'U')),\n",
       " ('8', ({'2': 1, '5': 1}, inf, [], 'U')),\n",
       " ('9', ({'2': 1, '5': 1}, inf, [], 'U')),\n",
       " ('10', ({'5': 1}, inf, [], 'U')),\n",
       " ('11', ({'5': 1}, inf, [], 'U'))]"
      ]
     },
     "execution_count": 42,
     "metadata": {},
     "output_type": "execute_result"
    }
   ],
   "source": [
    "start = time.time()\n",
    "testGraph = initGraph(testRDD, '4' ).collect()\n",
    "print(f'... test graph initialized in {time.time() - start} seconds.')\n",
    "testGraph"
   ]
  },
  {
   "cell_type": "code",
   "execution_count": 8,
   "metadata": {},
   "outputs": [
    {
     "name": "stdout",
     "output_type": "stream",
     "text": [
      "[('73', ({'14417532': 1}, inf, [], 'U')), ('299', ({'4214575': 1}, inf, [], 'U')), ('2552', ({'15043376': 1, '13430968': 1, '13451035': 1, '7263397': 1, '13001625': 1, '13443575': 1, '13451269': 1, '13432316': 1, '11623371': 1, '15028971': 1, '13425865': 1, '15042703': 1, '5051368': 1, '9854998': 2, '13442976': 1, '13315025': 1, '2992307': 1, '1054486': 1, '1322325': 1, '13450983': 1}, inf, [], 'U')), ('2570', ({'983991': 1}, inf, [], 'U')), ('2616', ({'9045350': 1}, inf, [], 'U'))]\n"
     ]
    }
   ],
   "source": [
    "wikiGraphRDD = initGraph(wikiRDD, '13455888').cache()\n",
    "print(wikiGraphRDD.take(5))"
   ]
  },
  {
   "cell_type": "code",
   "execution_count": 186,
   "metadata": {},
   "outputs": [
    {
     "data": {
      "image/png": "[encoded data removed]",
      "text/plain": [
       "<Figure size 432x288 with 1 Axes>"
      ]
     },
     "metadata": {},
     "output_type": "display_data"
    }
   ],
   "source": [
    "def plotTestGraph(rdd, positions = None, nz=1200, ec='b', nc=\"#cccccc\"):\n",
    "    nodes = set()\n",
    "    edges = []\n",
    "    graph= rdd.collect()\n",
    "    for line in graph:\n",
    "        n, e = line.split('\\t')\n",
    "        e = ast.literal_eval(e)\n",
    "        nodes.add(n)\n",
    "        for k,v in e.items():\n",
    "            edges.append((n,k,v))\n",
    "    nodes = list(nodes)\n",
    "    G=nx.DiGraph()\n",
    "    for n in nodes:\n",
    "        G.add_node(n)\n",
    "    for e in edges:\n",
    "        G.add_edge(e[0],e[1],weight=e[2])\n",
    "    if (not positions):\n",
    "        positions = nx.random_layout(G)\n",
    "    nx.draw(G, pos=positions, with_labels=True, alpha = 0.5, node_size = nz, edge_color = ec, node_color=nc )\n",
    "\n",
    "plotTestGraph(testRDD)"
   ]
  },
  {
   "cell_type": "markdown",
   "metadata": {},
   "source": [
    "### Implement SSSP using RDDs\n",
    "\n",
    "For maximum parallelism, the Maps and Reduces to be stateless. Also, you cannot control the order in which the maps run, or the reductions.\n",
    "\n",
    "The Mappers are to expand the “frontier” during each iteration. For each frontier node, the Mappers emit list of new frontier nodes\n",
    "tagged with state Queue, and distance = distance + edge weight. Old frontier updated to Visited state. Mappers emit all “unvisited nodes”\n",
    "as Unvisited state, with no change.\n",
    "\n",
    "The Reducers are to merge candidate paths. The SSSP reducers receive all data for a given key and combine as new key-value pair for\n",
    "next iteration.\n",
    "\n",
    "The detailed desciption of the distributed Dijkstra algorithm implementation is given below.\n",
    "\n",
    "   -  __Mapper Function__\n",
    "   \n",
    "         * Emit list of new frontier nodes tagged with `Q`, distance = distance + weight and path = path + current node.\n",
    "         * Mappers tag down stream edges from new frontier nodes as `Null` since mappers do not know them. \n",
    "         * Old frontier (namely state with `Q`) updated to visited `V`.\n",
    "         * Emit all nodes with `U` or `V` as is.\n",
    "\n",
    "\n",
    "   -  __Reducer Function__\n",
    "   \n",
    "         * The SSSP reducers receive all data for a given key\n",
    "         * They receive the Null \"copies\" from newly expanded frontier nodes \n",
    "         * They also receive info on down stream nodes for that key\n",
    "         * The reducers combine as new key-value pair for next cycle.\n",
    "             - Out_nodes: Union all values\n",
    "             - Distance: Take the min\n",
    "             - Path: Take the path that corresponds to min distance\n",
    "             - State:\n",
    "                 Weighted Graph:\n",
    "                  * if Q, V and distance(Q) < distance(V):\n",
    "                      - new_state = Q\n",
    "                  * else:\n",
    "                      - new_state = V\n",
    "                  * if Q, U:\n",
    "                      - new_state = Q\n",
    "                  * if V, U:\n",
    "                      - new_state = V\n",
    "\n",
    "The implementation that matches with the above description is the following function named `Dijkstra()`."
   ]
  },
  {
   "cell_type": "code",
   "execution_count": 9,
   "metadata": {},
   "outputs": [],
   "source": [
    "def Dijkstra(initGraphRDD, verbose = True):\n",
    "    accum_Qstate = sc.accumulator(0)\n",
    "    # helper function\n",
    "    def update_Qstate_counter(x):\n",
    "        if (x[1][3] == 'Q'):\n",
    "            accum_Qstate.add(1)\n",
    "    def mapper(x):\n",
    "        if (x[1][3] == 'U' or x[1][3] == 'V'):\n",
    "            yield x\n",
    "        else: # Q state\n",
    "            yield x[0], (x[1][0], x[1][1], x[1][2], 'V')\n",
    "            for k,v in x[1][0].items():\n",
    "                if (x[1][2]):\n",
    "                    yield k, ({}, x[1][1] + v, x[1][2] + [k] , 'Q')\n",
    "                else:\n",
    "                    yield k, ({}, x[1][1] + v, [k], 'Q')\n",
    "    def reducer(x, y):\n",
    "        \"\"\"Weighted Graph:\n",
    "          if Q,V and distance(Q) < distance(V):    new_state = Q\n",
    "            else:    new_state = V\n",
    "          if Q,U:    new_state = Q \"\"\"\n",
    "        out_nodes = {**x[0], **y[0]}\n",
    "        if (x[1] <= y[1]):\n",
    "            dist = x[1]\n",
    "            path = x[2]\n",
    "        else:\n",
    "            dist = y[1]\n",
    "            path = y[2]\n",
    "        if (x[3] == y[3]):\n",
    "            state = x[3]\n",
    "        elif (x[3] == 'V' and y[3] == 'Q'):\n",
    "            if (y[1] < x[1]):\n",
    "                state = 'Q'\n",
    "            else:\n",
    "                state = 'V'\n",
    "        elif (x[3] == 'Q' and y[3] == 'V'):\n",
    "            if (x[1] < y[1]):\n",
    "                state = 'Q'\n",
    "            else:\n",
    "                state = 'V'\n",
    "        elif ((x[3] == 'Q' and y[3] == 'U') or (x[3] == 'U' and y[3] == 'Q')):\n",
    "            state = 'Q'\n",
    "        elif ( (x[3] == 'V' and y[3] == 'U') or (x[3] == 'U' and y[3] == 'V')):\n",
    "            state = 'V'\n",
    "        return (out_nodes, dist, path, state)\n",
    "           \n",
    "            \n",
    "    # main spark code\n",
    "    rdd = initGraphRDD\n",
    "    rdd.foreach(update_Qstate_counter)\n",
    "    iteration = 0\n",
    "    while (accum_Qstate.value):\n",
    "        rdd = rdd.flatMap(mapper).reduceByKey(reducer).cache()\n",
    "        accum_Qstate.value = 0\n",
    "        rdd.foreach(update_Qstate_counter)\n",
    "        if (verbose):\n",
    "            iteration += 1\n",
    "            print(f\"At the end of iteration {iteration}, number of frontier nodes is {accum_Qstate.value}.\")\n",
    "    return rdd"
   ]
  },
  {
   "cell_type": "markdown",
   "metadata": {},
   "source": [
    "#### SSSP implementation testing\n",
    "\n",
    "To validate the implementation with several test data, I also provide the helper function named `compare_with_nx` for comparing with `NetworkX` results. The function is given below."
   ]
  },
  {
   "cell_type": "code",
   "execution_count": 176,
   "metadata": {},
   "outputs": [],
   "source": [
    "def compare_with_nx(results, sourceID, method = 'RDD'):\n",
    "    nodes = set()\n",
    "    edges = []\n",
    "    print('='*20+'Results from '+ method +'='*20)\n",
    "    for line in results:\n",
    "        (n, x) = line\n",
    "        nodes.add(n)\n",
    "        for k,v in x[0].items():\n",
    "            edges.append((n,k,v))\n",
    "        if (x[3] == 'V'):\n",
    "            print(f'{sourceID}->{n}: distance={x[1]}, path={x[2]}')\n",
    "    print('='*20+'Results from NetworkX'+'='*20)\n",
    "    nodes = list(nodes)\n",
    "    G = nx.DiGraph()\n",
    "    for node in nodes:\n",
    "        G.add_node(node)\n",
    "    for edge in edges:\n",
    "        G.add_edge(edge[0],edge[1],weight=edge[2])\n",
    "    print(\"lenghts\",nx.single_source_dijkstra_path_length(G,sourceID) )\n",
    "    print(\"paths\",nx.single_source_dijkstra_path(G, sourceID) )\n",
    "    print('='*80)"
   ]
  },
  {
   "cell_type": "markdown",
   "metadata": {},
   "source": [
    "**Test with Example A**\n",
    "\n",
    "The following is the test for the test graph we mentioned earlier. The output from `NetworkX` matches with the implementation."
   ]
  },
  {
   "cell_type": "code",
   "execution_count": 178,
   "metadata": {},
   "outputs": [
    {
     "name": "stdout",
     "output_type": "stream",
     "text": [
      "At the end of iteration 1, number of frontier nodes is 2.\n",
      "At the end of iteration 2, number of frontier nodes is 1.\n",
      "At the end of iteration 3, number of frontier nodes is 0.\n",
      "====================Results from RDD====================\n",
      "4->4: distance=0, path=['4']\n",
      "4->1: distance=1, path=['4', '1']\n",
      "4->2: distance=1, path=['4', '2']\n",
      "4->3: distance=2, path=['4', '2', '3']\n",
      "====================Results from NetworkX====================\n",
      "lenghts {'4': 0, '1': 1, '2': 1, '3': 2}\n",
      "paths {'4': ['4'], '1': ['4', '1'], '2': ['4', '2'], '3': ['4', '2', '3']}\n",
      "================================================================================\n"
     ]
    }
   ],
   "source": [
    "testGraph = initGraph(testRDD, '4' )\n",
    "test_results = Dijkstra(testGraph, verbose = True).collect()\n",
    "compare_with_nx(test_results, '4')"
   ]
  },
  {
   "cell_type": "markdown",
   "metadata": {},
   "source": [
    "**Test with Example B**"
   ]
  },
  {
   "cell_type": "code",
   "execution_count": 187,
   "metadata": {},
   "outputs": [
    {
     "name": "stdout",
     "output_type": "stream",
     "text": [
      "At the end of iteration 1, number of frontier nodes is 2.\n",
      "At the end of iteration 2, number of frontier nodes is 2.\n",
      "At the end of iteration 3, number of frontier nodes is 0.\n",
      "====================Results from RDD====================\n",
      "A->C: distance=5, path=['A', 'B', 'C']\n",
      "A->B: distance=1, path=['A', 'B']\n",
      "A->D: distance=3, path=['A', 'B', 'D']\n",
      "A->A: distance=0, path=['A']\n",
      "A->E: distance=5, path=['A', 'E']\n",
      "====================Results from NetworkX====================\n",
      "lenghts {'A': 0, 'B': 1, 'D': 3, 'E': 5, 'C': 5}\n",
      "paths {'A': ['A'], 'B': ['A', 'B'], 'E': ['A', 'E'], 'C': ['A', 'B', 'C'], 'D': ['A', 'B', 'D']}\n",
      "================================================================================\n"
     ]
    },
    {
     "data": {
      "image/png": "[encoded data removed]",
      "text/plain": [
       "<Figure size 432x288 with 1 Axes>"
      ]
     },
     "metadata": {},
     "output_type": "display_data"
    }
   ],
   "source": [
    "pos = {  'A': [-1.0,  0.2],\n",
    "         'B': [ 0.0,  0.2],\n",
    "         'C': [ 1.0,  0.4],\n",
    "         'D': [ 0.5, -0.3],\n",
    "         'E': [-0.4, -0.4]}\n",
    "plotTestGraph(toyRDD, positions = pos)\n",
    "toyGraph = initGraph(toyRDD, 'A' )\n",
    "toy_results = Dijkstra(toyGraph, verbose = True).collect()\n",
    "compare_with_nx(toy_results, 'A')"
   ]
  },
  {
   "cell_type": "markdown",
   "metadata": {},
   "source": [
    "**Test with Example C**\n",
    "\n",
    "As shown below, this is an interesting test case as nodes `n6` to `n9` have to update their state, distance and path before the Dijkstra algorithm completes."
   ]
  },
  {
   "cell_type": "code",
   "execution_count": 188,
   "metadata": {},
   "outputs": [
    {
     "data": {
      "image/png": "[encoded data removed]",
      "text/plain": [
       "<IPython.core.display.Image object>"
      ]
     },
     "execution_count": 188,
     "metadata": {},
     "output_type": "execute_result"
    }
   ],
   "source": [
    "from IPython.display import Image\n",
    "Image('data/sssp_quiz.png')"
   ]
  },
  {
   "cell_type": "code",
   "execution_count": 190,
   "metadata": {},
   "outputs": [
    {
     "name": "stdout",
     "output_type": "stream",
     "text": [
      "At the end of iteration 1, number of frontier nodes is 2.\n",
      "At the end of iteration 2, number of frontier nodes is 2.\n",
      "At the end of iteration 3, number of frontier nodes is 2.\n",
      "At the end of iteration 4, number of frontier nodes is 2.\n",
      "At the end of iteration 5, number of frontier nodes is 1.\n",
      "At the end of iteration 6, number of frontier nodes is 1.\n",
      "At the end of iteration 7, number of frontier nodes is 1.\n",
      "At the end of iteration 8, number of frontier nodes is 1.\n",
      "At the end of iteration 9, number of frontier nodes is 0.\n",
      "====================Results from RDD====================\n",
      "n1->n1: distance=0, path=['n1']\n",
      "n1->n4: distance=3, path=['n1', 'n2', 'n3', 'n4']\n",
      "n1->n5: distance=4, path=['n1', 'n2', 'n3', 'n4', 'n5']\n",
      "n1->n8: distance=7, path=['n1', 'n2', 'n3', 'n4', 'n5', 'n6', 'n7', 'n8']\n",
      "n1->n9: distance=8, path=['n1', 'n2', 'n3', 'n4', 'n5', 'n6', 'n7', 'n8', 'n9']\n",
      "n1->n6: distance=5, path=['n1', 'n2', 'n3', 'n4', 'n5', 'n6']\n",
      "n1->n7: distance=6, path=['n1', 'n2', 'n3', 'n4', 'n5', 'n6', 'n7']\n",
      "n1->n2: distance=1, path=['n1', 'n2']\n",
      "n1->n3: distance=2, path=['n1', 'n2', 'n3']\n",
      "====================Results from NetworkX====================\n",
      "lenghts {'n1': 0, 'n2': 1, 'n3': 2, 'n4': 3, 'n5': 4, 'n6': 5, 'n7': 6, 'n8': 7, 'n9': 8}\n",
      "paths {'n1': ['n1'], 'n2': ['n1', 'n2'], 'n6': ['n1', 'n2', 'n3', 'n4', 'n5', 'n6'], 'n3': ['n1', 'n2', 'n3'], 'n4': ['n1', 'n2', 'n3', 'n4'], 'n5': ['n1', 'n2', 'n3', 'n4', 'n5'], 'n7': ['n1', 'n2', 'n3', 'n4', 'n5', 'n6', 'n7'], 'n8': ['n1', 'n2', 'n3', 'n4', 'n5', 'n6', 'n7', 'n8'], 'n9': ['n1', 'n2', 'n3', 'n4', 'n5', 'n6', 'n7', 'n8', 'n9']}\n",
      "================================================================================\n"
     ]
    }
   ],
   "source": [
    "ssspQuizRDD = sc.textFile('data/sssp_quiz.txt')\n",
    "ssspQuizGraph = initGraph(ssspQuizRDD, 'n1' )\n",
    "ssspQuiz_results = Dijkstra(ssspQuizGraph, verbose = True).collect()\n",
    "compare_with_nx(ssspQuiz_results, 'n1')"
   ]
  },
  {
   "cell_type": "markdown",
   "metadata": {},
   "source": [
    "As shown above, the results from my implementation matches with `networkX` in all test cases. \n",
    "\n",
    "Now, it is ready to find SSSP with Wikipedia dataset. I used both GCP and a local machine run the SSSP and outputs are given below.\n",
    "\n",
    "The source node is the `13455888`, which is the highest PageRank node I found in my PageRank implementation. It calculates the SSSP from source to all nodes. The shortest path from source `13455888` to destination `4695850` is given as example."
   ]
  },
  {
   "cell_type": "code",
   "execution_count": 10,
   "metadata": {},
   "outputs": [
    {
     "name": "stdout",
     "output_type": "stream",
     "text": [
      "At the end of iteration 1, number of frontier nodes is 1257.\n",
      "At the end of iteration 2, number of frontier nodes is 138272.\n",
      "At the end of iteration 3, number of frontier nodes is 2070921.\n",
      "At the end of iteration 4, number of frontier nodes is 5745275.\n",
      "At the end of iteration 5, number of frontier nodes is 4179030.\n",
      "At the end of iteration 6, number of frontier nodes is 1235326.\n",
      "At the end of iteration 7, number of frontier nodes is 267354.\n",
      "At the end of iteration 8, number of frontier nodes is 48797.\n",
      "At the end of iteration 9, number of frontier nodes is 12903.\n",
      "At the end of iteration 10, number of frontier nodes is 3746.\n",
      "At the end of iteration 11, number of frontier nodes is 1445.\n",
      "At the end of iteration 12, number of frontier nodes is 774.\n",
      "At the end of iteration 13, number of frontier nodes is 805.\n",
      "At the end of iteration 14, number of frontier nodes is 318.\n",
      "At the end of iteration 15, number of frontier nodes is 162.\n",
      "At the end of iteration 16, number of frontier nodes is 130.\n",
      "At the end of iteration 17, number of frontier nodes is 143.\n",
      "At the end of iteration 18, number of frontier nodes is 160.\n",
      "At the end of iteration 19, number of frontier nodes is 124.\n",
      "At the end of iteration 20, number of frontier nodes is 88.\n",
      "At the end of iteration 21, number of frontier nodes is 67.\n",
      "At the end of iteration 22, number of frontier nodes is 46.\n",
      "At the end of iteration 23, number of frontier nodes is 31.\n",
      "At the end of iteration 24, number of frontier nodes is 27.\n",
      "At the end of iteration 25, number of frontier nodes is 15.\n",
      "At the end of iteration 26, number of frontier nodes is 14.\n",
      "At the end of iteration 27, number of frontier nodes is 10.\n",
      "At the end of iteration 28, number of frontier nodes is 12.\n",
      "At the end of iteration 29, number of frontier nodes is 11.\n",
      "At the end of iteration 30, number of frontier nodes is 7.\n",
      "At the end of iteration 31, number of frontier nodes is 8.\n",
      "At the end of iteration 32, number of frontier nodes is 7.\n",
      "At the end of iteration 33, number of frontier nodes is 8.\n",
      "At the end of iteration 34, number of frontier nodes is 9.\n",
      "At the end of iteration 35, number of frontier nodes is 10.\n",
      "At the end of iteration 36, number of frontier nodes is 6.\n",
      "At the end of iteration 37, number of frontier nodes is 2.\n",
      "At the end of iteration 38, number of frontier nodes is 1.\n",
      "At the end of iteration 39, number of frontier nodes is 1.\n",
      "At the end of iteration 40, number of frontier nodes is 1.\n",
      "At the end of iteration 41, number of frontier nodes is 1.\n",
      "At the end of iteration 42, number of frontier nodes is 1.\n",
      "At the end of iteration 43, number of frontier nodes is 2.\n",
      "At the end of iteration 44, number of frontier nodes is 1.\n",
      "At the end of iteration 45, number of frontier nodes is 1.\n",
      "At the end of iteration 46, number of frontier nodes is 1.\n",
      "At the end of iteration 47, number of frontier nodes is 1.\n",
      "At the end of iteration 48, number of frontier nodes is 1.\n",
      "At the end of iteration 49, number of frontier nodes is 1.\n",
      "At the end of iteration 50, number of frontier nodes is 1.\n",
      "At the end of iteration 51, number of frontier nodes is 1.\n",
      "At the end of iteration 52, number of frontier nodes is 1.\n",
      "At the end of iteration 53, number of frontier nodes is 1.\n",
      "At the end of iteration 54, number of frontier nodes is 1.\n",
      "At the end of iteration 55, number of frontier nodes is 1.\n",
      "At the end of iteration 56, number of frontier nodes is 1.\n",
      "At the end of iteration 57, number of frontier nodes is 1.\n",
      "At the end of iteration 58, number of frontier nodes is 1.\n",
      "At the end of iteration 59, number of frontier nodes is 1.\n",
      "At the end of iteration 60, number of frontier nodes is 2.\n",
      "At the end of iteration 61, number of frontier nodes is 1.\n",
      "At the end of iteration 62, number of frontier nodes is 1.\n",
      "At the end of iteration 63, number of frontier nodes is 1.\n",
      "At the end of iteration 64, number of frontier nodes is 1.\n",
      "At the end of iteration 65, number of frontier nodes is 4.\n",
      "At the end of iteration 66, number of frontier nodes is 4.\n",
      "At the end of iteration 67, number of frontier nodes is 3.\n",
      "At the end of iteration 68, number of frontier nodes is 3.\n",
      "At the end of iteration 69, number of frontier nodes is 1.\n",
      "At the end of iteration 70, number of frontier nodes is 1.\n",
      "At the end of iteration 71, number of frontier nodes is 1.\n",
      "At the end of iteration 72, number of frontier nodes is 1.\n",
      "At the end of iteration 73, number of frontier nodes is 0.\n",
      "... wiki sssp (rdd implementation) completed in 9821.642758369446 seconds.\n"
     ]
    }
   ],
   "source": [
    "start = time.time()\n",
    "wiki_sssp = Dijkstra(wikiGraphRDD, verbose = True).cache()\n",
    "print(f'... wiki sssp (rdd implementation) completed in {time.time() - start} seconds.')"
   ]
  },
  {
   "cell_type": "markdown",
   "metadata": {},
   "source": [
    "**The following is the result from single standalone machine.**\n",
    "```\n",
    "At the end of iteration 1, number of frontier nodes is 1257.\n",
    "At the end of iteration 2, number of frontier nodes is 138272.\n",
    "At the end of iteration 3, number of frontier nodes is 2070921.\n",
    "At the end of iteration 4, number of frontier nodes is 5745275.\n",
    "At the end of iteration 5, number of frontier nodes is 4179030.\n",
    "At the end of iteration 6, number of frontier nodes is 1235326.\n",
    "At the end of iteration 7, number of frontier nodes is 267354.\n",
    "At the end of iteration 8, number of frontier nodes is 48797.\n",
    "At the end of iteration 9, number of frontier nodes is 12903.\n",
    "At the end of iteration 10, number of frontier nodes is 3746.\n",
    "At the end of iteration 11, number of frontier nodes is 1445.\n",
    "At the end of iteration 12, number of frontier nodes is 774.\n",
    "At the end of iteration 13, number of frontier nodes is 805.\n",
    "At the end of iteration 14, number of frontier nodes is 318.\n",
    "At the end of iteration 15, number of frontier nodes is 162.\n",
    "At the end of iteration 16, number of frontier nodes is 130.\n",
    "At the end of iteration 17, number of frontier nodes is 143.\n",
    "At the end of iteration 18, number of frontier nodes is 160.\n",
    "At the end of iteration 19, number of frontier nodes is 124.\n",
    "At the end of iteration 20, number of frontier nodes is 88.\n",
    "At the end of iteration 21, number of frontier nodes is 67.\n",
    "At the end of iteration 22, number of frontier nodes is 46.\n",
    "At the end of iteration 23, number of frontier nodes is 31.\n",
    "At the end of iteration 24, number of frontier nodes is 27.\n",
    "At the end of iteration 25, number of frontier nodes is 15.\n",
    "At the end of iteration 26, number of frontier nodes is 14.\n",
    "At the end of iteration 27, number of frontier nodes is 10.\n",
    "At the end of iteration 28, number of frontier nodes is 12.\n",
    "At the end of iteration 29, number of frontier nodes is 11.\n",
    "At the end of iteration 30, number of frontier nodes is 7.\n",
    "At the end of iteration 31, number of frontier nodes is 8.\n",
    "At the end of iteration 32, number of frontier nodes is 7.\n",
    "At the end of iteration 33, number of frontier nodes is 8.\n",
    "At the end of iteration 34, number of frontier nodes is 9.\n",
    "At the end of iteration 35, number of frontier nodes is 10.\n",
    "At the end of iteration 36, number of frontier nodes is 6.\n",
    "At the end of iteration 37, number of frontier nodes is 2.\n",
    "At the end of iteration 38, number of frontier nodes is 1.\n",
    "At the end of iteration 39, number of frontier nodes is 1.\n",
    "At the end of iteration 40, number of frontier nodes is 1.\n",
    "At the end of iteration 41, number of frontier nodes is 1.\n",
    "At the end of iteration 42, number of frontier nodes is 1.\n",
    "At the end of iteration 43, number of frontier nodes is 2.\n",
    "At the end of iteration 44, number of frontier nodes is 1.\n",
    "At the end of iteration 45, number of frontier nodes is 1.\n",
    "At the end of iteration 46, number of frontier nodes is 1.\n",
    "At the end of iteration 47, number of frontier nodes is 1.\n",
    "At the end of iteration 48, number of frontier nodes is 1.\n",
    "At the end of iteration 49, number of frontier nodes is 1.\n",
    "At the end of iteration 50, number of frontier nodes is 1.\n",
    "At the end of iteration 51, number of frontier nodes is 1.\n",
    "At the end of iteration 52, number of frontier nodes is 1.\n",
    "At the end of iteration 53, number of frontier nodes is 1.\n",
    "At the end of iteration 54, number of frontier nodes is 1.\n",
    "At the end of iteration 55, number of frontier nodes is 1.\n",
    "At the end of iteration 56, number of frontier nodes is 1.\n",
    "At the end of iteration 57, number of frontier nodes is 1.\n",
    "At the end of iteration 58, number of frontier nodes is 1.\n",
    "At the end of iteration 59, number of frontier nodes is 1.\n",
    "At the end of iteration 60, number of frontier nodes is 2.\n",
    "At the end of iteration 61, number of frontier nodes is 1.\n",
    "At the end of iteration 62, number of frontier nodes is 1.\n",
    "At the end of iteration 63, number of frontier nodes is 1.\n",
    "At the end of iteration 64, number of frontier nodes is 1.\n",
    "At the end of iteration 65, number of frontier nodes is 4.\n",
    "At the end of iteration 66, number of frontier nodes is 4.\n",
    "At the end of iteration 67, number of frontier nodes is 3.\n",
    "At the end of iteration 68, number of frontier nodes is 3.\n",
    "At the end of iteration 69, number of frontier nodes is 1.\n",
    "At the end of iteration 70, number of frontier nodes is 1.\n",
    "At the end of iteration 71, number of frontier nodes is 1.\n",
    "At the end of iteration 72, number of frontier nodes is 1.\n",
    "At the end of iteration 73, number of frontier nodes is 0.\n",
    "... wiki sssp (rdd implementation) completed in 10437.99913930893 seconds.\n",
    "```"
   ]
  },
  {
   "cell_type": "code",
   "execution_count": 11,
   "metadata": {},
   "outputs": [
    {
     "name": "stdout",
     "output_type": "stream",
     "text": [
      "Distance to 4695850: 2, path ['13455888', '1054645', '4695850']\n",
      "... wiki sssp (rdd implementation) get path from source 13455888 to destination 4695850: 5.996818780899048 seconds.\n"
     ]
    }
   ],
   "source": [
    "start = time.time()\n",
    "result_dest_4695850 = wiki_sssp.filter(lambda x: x[0] == '4695850').collect()\n",
    "print(f'Distance to 4695850: {result_dest_4695850[0][1][1]}, path {result_dest_4695850[0][1][2]}')\n",
    "print(f'... wiki sssp (rdd implementation) get path from source 13455888 to destination 4695850: {time.time() - start} seconds.')"
   ]
  },
  {
   "cell_type": "markdown",
   "metadata": {},
   "source": [
    "**The following is the result from single standalone machine.**\n",
    "```\n",
    "Distance to 4695850: 2, path ['13455888', '1059632', '4695850']\n",
    "... wiki sssp (rdd implementation) get path from source 13455888 to destination 4695850: 37.7335045337677 seconds.\n",
    "```"
   ]
  },
  {
   "cell_type": "markdown",
   "metadata": {},
   "source": [
    "# DataFrames implementation sketch\n",
    "\n",
    "In the following, the DataFrame implementation description is given.\n",
    "\n",
    "First, the data will be read as DataFrame as shown below. The DataFrame is initialized by adding SSSP required information as new column."
   ]
  },
  {
   "cell_type": "code",
   "execution_count": 7,
   "metadata": {},
   "outputs": [],
   "source": [
    "from pyspark.sql.functions import split\n",
    "from pyspark.sql.functions import udf, col\n",
    "from pyspark.sql import types\n",
    "\n",
    "def data_to_df(file):\n",
    "    ret = spark.read.text(file).withColumnRenamed('value', 'nbrs')\n",
    "    ret = ret.withColumn('node', split(ret.nbrs, '\\t')[0]).withColumn('edges', split(ret.nbrs, '\\t')[1]).drop('nbrs')\n",
    "    return ret\n",
    "\n",
    "def initGraphDF(df, sourceID):\n",
    "    schema = types.StructType([\n",
    "    types.StructField(\"dist\", types.IntegerType()),\n",
    "    types.StructField(\"state\", types.StringType()),\n",
    "    types.StructField(\"path\", types.ArrayType(types.StringType()))])\n",
    "    \n",
    "    def sssp(node):\n",
    "        if (node == sourceID):\n",
    "            return (0, 'Q', [node])\n",
    "        else:\n",
    "            return (np.iinfo(np.int32).max,'U', [])\n",
    "    sssp = udf(sssp, schema)\n",
    "    df = df.select('node', 'edges', sssp(col('node')).alias('sssp'))\n",
    "    return df"
   ]
  },
  {
   "cell_type": "code",
   "execution_count": 77,
   "metadata": {},
   "outputs": [
    {
     "name": "stdout",
     "output_type": "stream",
     "text": [
      "+----+--------------------+-------------------+\n",
      "|node|               edges|               sssp|\n",
      "+----+--------------------+-------------------+\n",
      "|   A|    {'B': 1, 'E': 5}|[2147483647, U, []]|\n",
      "|   B|{'A': 2, 'C': 4, ...|        [0, Q, [B]]|\n",
      "|   C|    {'B': 5, 'D': 2}|[2147483647, U, []]|\n",
      "|   D|{'B': 7, 'C': 3, ...|[2147483647, U, []]|\n",
      "|   E|{'A': 4, 'B': 1, ...|[2147483647, U, []]|\n",
      "+----+--------------------+-------------------+\n",
      "\n",
      "root\n",
      " |-- node: string (nullable = true)\n",
      " |-- edges: string (nullable = true)\n",
      " |-- sssp: struct (nullable = true)\n",
      " |    |-- dist: integer (nullable = true)\n",
      " |    |-- state: string (nullable = true)\n",
      " |    |-- path: array (nullable = true)\n",
      " |    |    |-- element: string (containsNull = true)\n",
      "\n"
     ]
    }
   ],
   "source": [
    "toyDF = initGraphDF(data_to_df('data/toy_graph.txt'), 'B')\n",
    "toyDF.show()\n",
    "toyDF.printSchema()"
   ]
  },
  {
   "cell_type": "code",
   "execution_count": 78,
   "metadata": {},
   "outputs": [
    {
     "data": {
      "text/plain": [
       "1"
      ]
     },
     "execution_count": 78,
     "metadata": {},
     "output_type": "execute_result"
    }
   ],
   "source": [
    "toyDF.filter(toyDF.sssp.state == 'Q').count()"
   ]
  },
  {
   "cell_type": "markdown",
   "metadata": {},
   "source": [
    "The key idea of implementing distributed SSSP remains the same as using RDDs. I plan do the following to implement SSSP with DataFrames.\n",
    "\n",
    "- Use a broadcast count to keep track of total number of nodes in `Q` state and the algorithm stops when the count reaches 0.\n",
    "- During each iteration:\n",
    "    * mapper function will expand data frame with rows for all nodes in `Q` state. It will change nodes in `Q` state to `V` state.\n",
    "    * reducer function will reduce the data frame by node ID field and update column `sssp` in the same way as in the case of RDD."
   ]
  },
  {
   "cell_type": "markdown",
   "metadata": {},
   "source": [
    "# GraphFrames shortest path\n",
    "\n",
    "GraphFrames does has implementation of shortest path. However, its has different input and output formats.\n",
    "\n",
    "For inputs, dataframes of nodes and edges are required. For node dataframe, a column with name `id` is required. For edge dataframe, it requires columns named `src` and `dst`. However, these is no weights on the edges. Thus, the shortest path is for unweighted graph.\n",
    "\n",
    "In terms of output, it provides the shortest path to set of landmark nodes from every node. Thus, it is not single source shortest path. It is the shortest path from all nodes to set of destinations. Thus, it is not the same as SSSP. Finally, GraphFrames only provide the result for distance and there is no path output.\n",
    "\n",
    "To show this, I provided the code below using the same toy example used in [week 9 live session demo notebook](https://github.com/UCB-w261/main/blob/master/LiveSessionMaterials/wk09Demo_Graphs/master/demo9_workbook.ipynb). First, I align the data input with the required GraphFrames format. The distances to landmark node `D` are provided."
   ]
  },
  {
   "cell_type": "code",
   "execution_count": 6,
   "metadata": {},
   "outputs": [],
   "source": [
    "from graphframes import *"
   ]
  },
  {
   "cell_type": "code",
   "execution_count": 51,
   "metadata": {},
   "outputs": [],
   "source": [
    "def create_graph_frame(rdd):\n",
    "    def parse(line):\n",
    "        node, edges = line.split('\\t')\n",
    "        edges = ast.literal_eval(edges)\n",
    "        e = []\n",
    "        for k in edges.keys():\n",
    "            e.append([node, k])\n",
    "        yield (node, e)\n",
    "    def emit_edges(x):\n",
    "        for e in x[1]:\n",
    "            yield e\n",
    "    rdd = rdd.flatMap(parse).cache()\n",
    "    ndf = rdd.map(lambda x: (x[0], )).toDF(['id'])\n",
    "    edf = rdd.flatMap(emit_edges).toDF(['src','dst'])\n",
    "    g = GraphFrame(ndf, edf)\n",
    "    return g"
   ]
  },
  {
   "cell_type": "code",
   "execution_count": 56,
   "metadata": {},
   "outputs": [
    {
     "name": "stdout",
     "output_type": "stream",
     "text": [
      "+---+---------+\n",
      "| id|distances|\n",
      "+---+---------+\n",
      "|  D| [D -> 0]|\n",
      "|  E| [D -> 1]|\n",
      "|  C| [D -> 1]|\n",
      "|  B| [D -> 1]|\n",
      "|  A| [D -> 2]|\n",
      "+---+---------+\n",
      "\n"
     ]
    }
   ],
   "source": [
    "toygf = create_graph_frame(sc.textFile('gs://w261-data-gp/data/toy_graph.txt'))\n",
    "toygf.shortestPaths(landmarks=[\"D\"]).select(\"id\", \"distances\").show()"
   ]
  },
  {
   "cell_type": "markdown",
   "metadata": {},
   "source": [
    "Thus, the implementation of shortest path from GraphFrames cannot be used due to its setup, unweighted edges and no actual path output (only distance value)."
   ]
  },
  {
   "cell_type": "markdown",
   "metadata": {},
   "source": [
    "# Longest Path\n",
    "\n",
    "First, we have to define the longest path a little more concise. In particular, the longest path must be simple path, which means that there is no repeated vertices along the path. Also the graph has to be Directed Acyclic Graphs (DAG) in order to have a polynomial complexity otherwise it is known that the longest path problem is a NP-complete problem.\n",
    "\n",
    "When we are constrained to solve the longest path for DAG, we can transform it to a shortest path problem by negating the weights (we also assume that the original graph has positive weights here). Thus, we can apply the SSSP here. The challenge is that we have to ensure the graph is DAG otherwise it will not be able converge."
   ]
  },
  {
   "cell_type": "markdown",
   "metadata": {},
   "source": [
    "# Summary and conclusion\n",
    "\n",
    "In this assignment, I implemented SSSP using RDD.  I used Wikipedia dataset to calculate the shortest path from single source to all reachable destinations with both GCP cluster and local multi-core standalone machine. The implementation was validated with multiple examples against the standard implementation from `NetworkX`. The implementation uses the map-reduce programming framework and is fully distributed. No global priority queue is maintained and uses state markings to facilitate the BFS graph traversal for finding the shortest path from single source.\n",
    "\n",
    "I also outlined the implementation with DataFrames and described the reasons that GraphFrames shortest path implementation is not applicable for comparison. Finally, the Longest Path algorithm was discussed for DAG."
   ]
  }
 ],
 "metadata": {
  "kernelspec": {
   "display_name": "Python 3",
   "language": "python",
   "name": "python3"
  },
  "language_info": {
   "codemirror_mode": {
    "name": "ipython",
    "version": 3
   },
   "file_extension": ".py",
   "mimetype": "text/x-python",
   "name": "python",
   "nbconvert_exporter": "python",
   "pygments_lexer": "ipython3",
   "version": "3.6.7"
  },
  "toc": {
   "colors": {
    "hover_highlight": "#DAA520",
    "running_highlight": "#FF0000",
    "selected_highlight": "#FFD700"
   },
   "moveMenuLeft": true,
   "nav_menu": {
    "height": "441px",
    "width": "252px"
   },
   "navigate_menu": true,
   "number_sections": true,
   "sideBar": true,
   "threshold": 4,
   "toc_cell": true,
   "toc_position": {
    "height": "827px",
    "left": "0px",
    "right": "1125px",
    "top": "107px",
    "width": "428px"
   },
   "toc_section_display": "block",
   "toc_window_display": true
  }
 },
 "nbformat": 4,
 "nbformat_minor": 2
}
